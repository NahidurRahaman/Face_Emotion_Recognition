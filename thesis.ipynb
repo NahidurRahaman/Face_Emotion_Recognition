{
  "nbformat": 4,
  "nbformat_minor": 0,
  "metadata": {
    "colab": {
      "provenance": [],
      "gpuType": "T4",
      "authorship_tag": "ABX9TyOrCiDl54uFlHbY3OzgMgcD",
      "include_colab_link": true
    },
    "kernelspec": {
      "name": "python3",
      "display_name": "Python 3"
    },
    "language_info": {
      "name": "python"
    },
    "accelerator": "GPU",
    "widgets": {
      "application/vnd.jupyter.widget-state+json": {
        "b79003d61db844fe80fcb6d98362e9e6": {
          "model_module": "@jupyter-widgets/controls",
          "model_name": "HBoxModel",
          "model_module_version": "1.5.0",
          "state": {
            "_dom_classes": [],
            "_model_module": "@jupyter-widgets/controls",
            "_model_module_version": "1.5.0",
            "_model_name": "HBoxModel",
            "_view_count": null,
            "_view_module": "@jupyter-widgets/controls",
            "_view_module_version": "1.5.0",
            "_view_name": "HBoxView",
            "box_style": "",
            "children": [
              "IPY_MODEL_144b92b7fad949e290e0b087d506948f",
              "IPY_MODEL_a36423887b8d40b099a4a17ada4a185b",
              "IPY_MODEL_df7bda06201e4005bba4cd78ed5376d5"
            ],
            "layout": "IPY_MODEL_3601074a29444146a8d4d4943a6b6ca9"
          }
        },
        "144b92b7fad949e290e0b087d506948f": {
          "model_module": "@jupyter-widgets/controls",
          "model_name": "HTMLModel",
          "model_module_version": "1.5.0",
          "state": {
            "_dom_classes": [],
            "_model_module": "@jupyter-widgets/controls",
            "_model_module_version": "1.5.0",
            "_model_name": "HTMLModel",
            "_view_count": null,
            "_view_module": "@jupyter-widgets/controls",
            "_view_module_version": "1.5.0",
            "_view_name": "HTMLView",
            "description": "",
            "description_tooltip": null,
            "layout": "IPY_MODEL_2e26dc47b2104665862b246989b09959",
            "placeholder": "​",
            "style": "IPY_MODEL_5b4c23c539144308b145fe52a1f13122",
            "value": "model.safetensors: 100%"
          }
        },
        "a36423887b8d40b099a4a17ada4a185b": {
          "model_module": "@jupyter-widgets/controls",
          "model_name": "FloatProgressModel",
          "model_module_version": "1.5.0",
          "state": {
            "_dom_classes": [],
            "_model_module": "@jupyter-widgets/controls",
            "_model_module_version": "1.5.0",
            "_model_name": "FloatProgressModel",
            "_view_count": null,
            "_view_module": "@jupyter-widgets/controls",
            "_view_module_version": "1.5.0",
            "_view_name": "ProgressView",
            "bar_style": "success",
            "description": "",
            "description_tooltip": null,
            "layout": "IPY_MODEL_9da19b4eec7c4d0dbe93cd9a0af2eacf",
            "max": 114374272,
            "min": 0,
            "orientation": "horizontal",
            "style": "IPY_MODEL_1568884bde16483884dacb6a14b256bc",
            "value": 114374272
          }
        },
        "df7bda06201e4005bba4cd78ed5376d5": {
          "model_module": "@jupyter-widgets/controls",
          "model_name": "HTMLModel",
          "model_module_version": "1.5.0",
          "state": {
            "_dom_classes": [],
            "_model_module": "@jupyter-widgets/controls",
            "_model_module_version": "1.5.0",
            "_model_name": "HTMLModel",
            "_view_count": null,
            "_view_module": "@jupyter-widgets/controls",
            "_view_module_version": "1.5.0",
            "_view_name": "HTMLView",
            "description": "",
            "description_tooltip": null,
            "layout": "IPY_MODEL_dc01c3e79a2640999b23449b3bbf37ee",
            "placeholder": "​",
            "style": "IPY_MODEL_76a8fb0f07284ff8a234c3c220793b6f",
            "value": " 114M/114M [00:01&lt;00:00, 137MB/s]"
          }
        },
        "3601074a29444146a8d4d4943a6b6ca9": {
          "model_module": "@jupyter-widgets/base",
          "model_name": "LayoutModel",
          "model_module_version": "1.2.0",
          "state": {
            "_model_module": "@jupyter-widgets/base",
            "_model_module_version": "1.2.0",
            "_model_name": "LayoutModel",
            "_view_count": null,
            "_view_module": "@jupyter-widgets/base",
            "_view_module_version": "1.2.0",
            "_view_name": "LayoutView",
            "align_content": null,
            "align_items": null,
            "align_self": null,
            "border": null,
            "bottom": null,
            "display": null,
            "flex": null,
            "flex_flow": null,
            "grid_area": null,
            "grid_auto_columns": null,
            "grid_auto_flow": null,
            "grid_auto_rows": null,
            "grid_column": null,
            "grid_gap": null,
            "grid_row": null,
            "grid_template_areas": null,
            "grid_template_columns": null,
            "grid_template_rows": null,
            "height": null,
            "justify_content": null,
            "justify_items": null,
            "left": null,
            "margin": null,
            "max_height": null,
            "max_width": null,
            "min_height": null,
            "min_width": null,
            "object_fit": null,
            "object_position": null,
            "order": null,
            "overflow": null,
            "overflow_x": null,
            "overflow_y": null,
            "padding": null,
            "right": null,
            "top": null,
            "visibility": null,
            "width": null
          }
        },
        "2e26dc47b2104665862b246989b09959": {
          "model_module": "@jupyter-widgets/base",
          "model_name": "LayoutModel",
          "model_module_version": "1.2.0",
          "state": {
            "_model_module": "@jupyter-widgets/base",
            "_model_module_version": "1.2.0",
            "_model_name": "LayoutModel",
            "_view_count": null,
            "_view_module": "@jupyter-widgets/base",
            "_view_module_version": "1.2.0",
            "_view_name": "LayoutView",
            "align_content": null,
            "align_items": null,
            "align_self": null,
            "border": null,
            "bottom": null,
            "display": null,
            "flex": null,
            "flex_flow": null,
            "grid_area": null,
            "grid_auto_columns": null,
            "grid_auto_flow": null,
            "grid_auto_rows": null,
            "grid_column": null,
            "grid_gap": null,
            "grid_row": null,
            "grid_template_areas": null,
            "grid_template_columns": null,
            "grid_template_rows": null,
            "height": null,
            "justify_content": null,
            "justify_items": null,
            "left": null,
            "margin": null,
            "max_height": null,
            "max_width": null,
            "min_height": null,
            "min_width": null,
            "object_fit": null,
            "object_position": null,
            "order": null,
            "overflow": null,
            "overflow_x": null,
            "overflow_y": null,
            "padding": null,
            "right": null,
            "top": null,
            "visibility": null,
            "width": null
          }
        },
        "5b4c23c539144308b145fe52a1f13122": {
          "model_module": "@jupyter-widgets/controls",
          "model_name": "DescriptionStyleModel",
          "model_module_version": "1.5.0",
          "state": {
            "_model_module": "@jupyter-widgets/controls",
            "_model_module_version": "1.5.0",
            "_model_name": "DescriptionStyleModel",
            "_view_count": null,
            "_view_module": "@jupyter-widgets/base",
            "_view_module_version": "1.2.0",
            "_view_name": "StyleView",
            "description_width": ""
          }
        },
        "9da19b4eec7c4d0dbe93cd9a0af2eacf": {
          "model_module": "@jupyter-widgets/base",
          "model_name": "LayoutModel",
          "model_module_version": "1.2.0",
          "state": {
            "_model_module": "@jupyter-widgets/base",
            "_model_module_version": "1.2.0",
            "_model_name": "LayoutModel",
            "_view_count": null,
            "_view_module": "@jupyter-widgets/base",
            "_view_module_version": "1.2.0",
            "_view_name": "LayoutView",
            "align_content": null,
            "align_items": null,
            "align_self": null,
            "border": null,
            "bottom": null,
            "display": null,
            "flex": null,
            "flex_flow": null,
            "grid_area": null,
            "grid_auto_columns": null,
            "grid_auto_flow": null,
            "grid_auto_rows": null,
            "grid_column": null,
            "grid_gap": null,
            "grid_row": null,
            "grid_template_areas": null,
            "grid_template_columns": null,
            "grid_template_rows": null,
            "height": null,
            "justify_content": null,
            "justify_items": null,
            "left": null,
            "margin": null,
            "max_height": null,
            "max_width": null,
            "min_height": null,
            "min_width": null,
            "object_fit": null,
            "object_position": null,
            "order": null,
            "overflow": null,
            "overflow_x": null,
            "overflow_y": null,
            "padding": null,
            "right": null,
            "top": null,
            "visibility": null,
            "width": null
          }
        },
        "1568884bde16483884dacb6a14b256bc": {
          "model_module": "@jupyter-widgets/controls",
          "model_name": "ProgressStyleModel",
          "model_module_version": "1.5.0",
          "state": {
            "_model_module": "@jupyter-widgets/controls",
            "_model_module_version": "1.5.0",
            "_model_name": "ProgressStyleModel",
            "_view_count": null,
            "_view_module": "@jupyter-widgets/base",
            "_view_module_version": "1.2.0",
            "_view_name": "StyleView",
            "bar_color": null,
            "description_width": ""
          }
        },
        "dc01c3e79a2640999b23449b3bbf37ee": {
          "model_module": "@jupyter-widgets/base",
          "model_name": "LayoutModel",
          "model_module_version": "1.2.0",
          "state": {
            "_model_module": "@jupyter-widgets/base",
            "_model_module_version": "1.2.0",
            "_model_name": "LayoutModel",
            "_view_count": null,
            "_view_module": "@jupyter-widgets/base",
            "_view_module_version": "1.2.0",
            "_view_name": "LayoutView",
            "align_content": null,
            "align_items": null,
            "align_self": null,
            "border": null,
            "bottom": null,
            "display": null,
            "flex": null,
            "flex_flow": null,
            "grid_area": null,
            "grid_auto_columns": null,
            "grid_auto_flow": null,
            "grid_auto_rows": null,
            "grid_column": null,
            "grid_gap": null,
            "grid_row": null,
            "grid_template_areas": null,
            "grid_template_columns": null,
            "grid_template_rows": null,
            "height": null,
            "justify_content": null,
            "justify_items": null,
            "left": null,
            "margin": null,
            "max_height": null,
            "max_width": null,
            "min_height": null,
            "min_width": null,
            "object_fit": null,
            "object_position": null,
            "order": null,
            "overflow": null,
            "overflow_x": null,
            "overflow_y": null,
            "padding": null,
            "right": null,
            "top": null,
            "visibility": null,
            "width": null
          }
        },
        "76a8fb0f07284ff8a234c3c220793b6f": {
          "model_module": "@jupyter-widgets/controls",
          "model_name": "DescriptionStyleModel",
          "model_module_version": "1.5.0",
          "state": {
            "_model_module": "@jupyter-widgets/controls",
            "_model_module_version": "1.5.0",
            "_model_name": "DescriptionStyleModel",
            "_view_count": null,
            "_view_module": "@jupyter-widgets/base",
            "_view_module_version": "1.2.0",
            "_view_name": "StyleView",
            "description_width": ""
          }
        }
      }
    }
  },
  "cells": [
    {
      "cell_type": "markdown",
      "metadata": {
        "id": "view-in-github",
        "colab_type": "text"
      },
      "source": [
        "<a href=\"https://colab.research.google.com/github/NahidurRahaman/Face_Emotion_Recognition/blob/main/thesis.ipynb\" target=\"_parent\"><img src=\"https://colab.research.google.com/assets/colab-badge.svg\" alt=\"Open In Colab\"/></a>"
      ]
    },
    {
      "cell_type": "code",
      "execution_count": 1,
      "metadata": {
        "id": "lNLXIYuJ98-_"
      },
      "outputs": [],
      "source": [
        "import pandas as pd\n",
        "import numpy as np\n",
        "import cv2\n",
        "import torch\n",
        "from torch.utils.data import Dataset, DataLoader\n",
        "from torchvision import transforms\n",
        "from PIL import Image\n",
        "from sklearn.model_selection import train_test_split"
      ]
    },
    {
      "cell_type": "code",
      "source": [
        "# Mount Google Drive\n",
        "from google.colab import drive\n",
        "drive.mount('/content/drive')"
      ],
      "metadata": {
        "colab": {
          "base_uri": "https://localhost:8080/"
        },
        "id": "YgRwbAaa_OwO",
        "outputId": "dd8fd5cd-8399-4b2a-dee9-da4cb4ef77fc"
      },
      "execution_count": 3,
      "outputs": [
        {
          "output_type": "stream",
          "name": "stdout",
          "text": [
            "Mounted at /content/drive\n"
          ]
        }
      ]
    },
    {
      "cell_type": "code",
      "source": [
        "# Load FER2013 CSV\n",
        "csv_path = '/content/drive/MyDrive/fer2013.csv'  # update path if needed\n",
        "df = pd.read_csv(csv_path)"
      ],
      "metadata": {
        "id": "-SmW6aB5_c7G"
      },
      "execution_count": 4,
      "outputs": []
    },
    {
      "cell_type": "code",
      "source": [
        "# Define emotion classes\n",
        "emotion_labels = {\n",
        "    0: 'Angry', 1: 'Disgust', 2: 'Fear', 3: 'Happy',\n",
        "    4: 'Sad', 5: 'Surprise', 6: 'Neutral'\n",
        "}\n",
        "\n",
        "# Custom dataset from CSV\n",
        "class FER2013Dataset(Dataset):\n",
        "    def __init__(self, dataframe, transform=None):\n",
        "        self.df = dataframe\n",
        "        self.transform = transform\n",
        "\n",
        "    def __len__(self):\n",
        "        return len(self.df)\n",
        "\n",
        "    def __getitem__(self, idx):\n",
        "        pixels = list(map(int, self.df.iloc[idx][\"pixels\"].split()))\n",
        "        img = np.asarray(pixels).reshape(48, 48).astype(np.uint8)\n",
        "        img = Image.fromarray(img).convert(\"L\")\n",
        "        img = img.convert(\"RGB\")  # convert to 3-channel RGB\n",
        "\n",
        "        if self.transform:\n",
        "            img = self.transform(img)\n",
        "\n",
        "        label = int(self.df.iloc[idx][\"emotion\"])\n",
        "        return img, label"
      ],
      "metadata": {
        "id": "WPAScUxU_fee"
      },
      "execution_count": 5,
      "outputs": []
    },
    {
      "cell_type": "code",
      "source": [
        "transform = transforms.Compose([\n",
        "    transforms.Resize((48, 48)),\n",
        "    transforms.Resize((224, 224)),  # ESRGAN-like upscaling\n",
        "    transforms.ToTensor(),\n",
        "    transforms.Normalize([0.5]*3, [0.5]*3)\n",
        "])\n",
        "\n",
        "# Split manually\n",
        "from sklearn.model_selection import train_test_split\n",
        "\n",
        "train_df, val_df = train_test_split(df, test_size=0.2, stratify=df['emotion'], random_state=42)\n",
        "\n",
        "train_dataset = FER2013Dataset(train_df, transform=transform)\n",
        "val_dataset = FER2013Dataset(val_df, transform=transform)\n",
        "\n",
        "train_loader = DataLoader(train_dataset, batch_size=16, shuffle=True)\n",
        "val_loader = DataLoader(val_dataset, batch_size=16, shuffle=False)\n"
      ],
      "metadata": {
        "id": "HO3wbeqP_z2n"
      },
      "execution_count": 6,
      "outputs": []
    },
    {
      "cell_type": "code",
      "source": [
        "import torch.nn as nn\n",
        "import torch.nn.functional as F\n",
        "\n",
        "class ESRGANLikeUpsampler(nn.Module):\n",
        "    def __init__(self, upscale_factor=4):\n",
        "        super(ESRGANLikeUpsampler, self).__init__()\n",
        "        self.upsample = nn.Sequential(\n",
        "            nn.Conv2d(3, 64, kernel_size=3, padding=1),      # Feature extraction\n",
        "            nn.ReLU(inplace=True),\n",
        "            nn.Conv2d(64, 64, kernel_size=3, padding=1),\n",
        "            nn.ReLU(inplace=True),\n",
        "            nn.Upsample(scale_factor=upscale_factor, mode='bilinear', align_corners=False),\n",
        "            nn.Conv2d(64, 3, kernel_size=3, padding=1)       # Restore to RGB\n",
        "        )\n",
        "\n",
        "    def forward(self, x):\n",
        "        return self.upsample(x)\n"
      ],
      "metadata": {
        "id": "fwNlLwX5_20m"
      },
      "execution_count": 7,
      "outputs": []
    },
    {
      "cell_type": "code",
      "source": [
        "# Move upsampler to CPU for visualization to avoid OOM\n",
        "upsampler = ESRGANLikeUpsampler().cpu()\n",
        "\n",
        "sample_img, _ = next(iter(train_loader))\n",
        "# Move sample image to CPU for visualization\n",
        "sample_img = sample_img.cpu()\n",
        "\n",
        "# Resize sample image to a smaller size for visualization to save memory\n",
        "resize_transform = transforms.Resize((112, 112))\n",
        "sample_img_resized = resize_transform(sample_img)\n",
        "\n",
        "\n",
        "upscaled_img = upsampler(sample_img_resized[:2])  # Batch of 2 on resized images\n",
        "\n",
        "# Visualize before vs after\n",
        "import matplotlib.pyplot as plt\n",
        "\n",
        "fig, axs = plt.subplots(2, 2, figsize=(8, 6)) # Adjusted for 2 images\n",
        "for i in range(2):\n",
        "    # Display the resized original image\n",
        "    axs[0, i].imshow(sample_img_resized[i].permute(1, 2, 0).cpu().numpy() * 0.5 + 0.5)\n",
        "    axs[0, i].set_title(\"Original (Resized)\")\n",
        "    axs[1, i].imshow(upscaled_img[i].permute(1, 2, 0).detach().cpu().numpy() * 0.5 + 0.5)\n",
        "    axs[1, i].set_title(\"Upscaled\")\n",
        "    axs[0, i].axis('off')\n",
        "    axs[1, i].axis('off')\n",
        "plt.tight_layout()\n",
        "plt.show()"
      ],
      "metadata": {
        "colab": {
          "base_uri": "https://localhost:8080/",
          "height": 607
        },
        "id": "D_JN2UH___cW",
        "outputId": "cde049df-cf2b-45dd-e999-fb36a25b3818"
      },
      "execution_count": 8,
      "outputs": [
        {
          "output_type": "display_data",
          "data": {
            "text/plain": [
              "<Figure size 800x600 with 4 Axes>"
            ],
            "image/png": "[encoded data removed]"
          },
          "metadata": {}
        }
      ]
    },
    {
      "cell_type": "code",
      "source": [
        "import torch.nn as nn\n",
        "import timm\n"
      ],
      "metadata": {
        "id": "VQ-zXTzlA8W3"
      },
      "execution_count": 9,
      "outputs": []
    },
    {
      "cell_type": "code",
      "source": [
        "class EfficientNetV2S_FeatureExtractor(nn.Module):\n",
        "    def __init__(self):\n",
        "        super(EfficientNetV2S_FeatureExtractor, self).__init__()\n",
        "        self.backbone = timm.create_model('efficientnetv2_s', pretrained=False, features_only=True)\n",
        "\n",
        "    def forward(self, x):\n",
        "        features = self.backbone(x)\n",
        "        return features[-1]  # (B, 1280, 7, 7)"
      ],
      "metadata": {
        "id": "nZwqBT6GBu-_"
      },
      "execution_count": 10,
      "outputs": []
    },
    {
      "cell_type": "code",
      "source": [
        "device = torch.device(\"cuda\" if torch.cuda.is_available() else \"cpu\")\n",
        "\n",
        "# Load model\n",
        "efficientnet_model = EfficientNetV2S_FeatureExtractor().to(device)\n",
        "efficientnet_model.eval()\n",
        "\n",
        "# Use first batch from train_loader\n",
        "for images, labels in train_loader:\n",
        "    images = images.to(device)  # shape: (B, 3, 224, 224)\n",
        "    labels = labels.to(device)\n",
        "\n",
        "    with torch.no_grad():\n",
        "        features = efficientnet_model(images)  # shape: (B, 1280, 7, 7)\n",
        "\n",
        "    print(\"Input shape:\", images.shape)\n",
        "    print(\"EfficientNetV2-S Output shape:\", features.shape)\n",
        "    break"
      ],
      "metadata": {
        "colab": {
          "base_uri": "https://localhost:8080/"
        },
        "id": "MANXo_wqB2yG",
        "outputId": "8912353d-5c8a-4968-b673-de9044e4cbd3"
      },
      "execution_count": 11,
      "outputs": [
        {
          "output_type": "stream",
          "name": "stdout",
          "text": [
            "Input shape: torch.Size([16, 3, 224, 224])\n",
            "EfficientNetV2-S Output shape: torch.Size([16, 256, 7, 7])\n"
          ]
        }
      ]
    },
    {
      "cell_type": "code",
      "source": [
        "class ConvNeXtBlock(nn.Module):\n",
        "    def __init__(self, in_channels=256, out_channels=256):\n",
        "        super(ConvNeXtBlock, self).__init__()\n",
        "        self.convnext = timm.create_model('convnext_tiny', pretrained=True, features_only=True)\n",
        "        self.proj = nn.Conv2d(in_channels, out_channels, kernel_size=1)\n",
        "\n",
        "    def forward(self, x):\n",
        "        x = self.proj(x)  # Reduce 256 → 256 (no change)\n",
        "        return x  # shape: B × 256 × 7 × 7"
      ],
      "metadata": {
        "id": "xQ4v-xgvC7Xu"
      },
      "execution_count": 12,
      "outputs": []
    },
    {
      "cell_type": "code",
      "source": [
        "class SE_MBConvBlock(nn.Module):\n",
        "    def __init__(self, in_channels=256, out_channels=256):\n",
        "        super(SE_MBConvBlock, self).__init__()\n",
        "        self.expand = nn.Conv2d(in_channels, in_channels * 6, kernel_size=1)\n",
        "        self.depthwise = nn.Conv2d(in_channels * 6, in_channels * 6, kernel_size=3, padding=1, groups=in_channels * 6)\n",
        "        self.se = nn.Sequential(\n",
        "            nn.AdaptiveAvgPool2d(1),\n",
        "            nn.Conv2d(in_channels * 6, in_channels // 4, 1),\n",
        "            nn.ReLU(),\n",
        "            nn.Conv2d(in_channels // 4, in_channels * 6, 1),\n",
        "            nn.Sigmoid()\n",
        "        )\n",
        "        self.project = nn.Conv2d(in_channels * 6, out_channels, kernel_size=1)\n",
        "\n",
        "    def forward(self, x):\n",
        "        x = self.expand(x)\n",
        "        x = self.depthwise(x)\n",
        "        se_weight = self.se(x)\n",
        "        x = x * se_weight\n",
        "        x = self.project(x)\n",
        "        return x  # shape: B × 256 × 7 × 7"
      ],
      "metadata": {
        "id": "RjQjJCn1Dmku"
      },
      "execution_count": 13,
      "outputs": []
    },
    {
      "cell_type": "code",
      "source": [
        "adaptive_pool = nn.AdaptiveAvgPool2d((28, 28))\n"
      ],
      "metadata": {
        "id": "NgLnq-bkDrI-"
      },
      "execution_count": 14,
      "outputs": []
    },
    {
      "cell_type": "code",
      "source": [
        "class MultiBranchFeatureExtractor(nn.Module):\n",
        "    def __init__(self):\n",
        "        super(MultiBranchFeatureExtractor, self).__init__()\n",
        "        self.efficientnet = EfficientNetV2S_FeatureExtractor()\n",
        "        self.convnext_block = ConvNeXtBlock()\n",
        "        self.se_mbconv_block = SE_MBConvBlock()\n",
        "        self.pool = nn.AdaptiveAvgPool2d((28, 28))  # Resize to 28×28\n",
        "\n",
        "    def forward(self, x):\n",
        "        x = self.efficientnet(x)  # Output: B × 1280 × 7 × 7\n",
        "\n",
        "        convnext_feat = self.convnext_block(x)     # B × 256 × 7 × 7\n",
        "        senet_feat    = self.se_mbconv_block(x)    # B × 256 × 7 × 7\n",
        "\n",
        "        convnext_feat = self.pool(convnext_feat)   # B × 256 × 28 × 28\n",
        "        senet_feat    = self.pool(senet_feat)      # B × 256 × 28 × 28\n",
        "\n",
        "        return convnext_feat, senet_feat\n"
      ],
      "metadata": {
        "id": "MILCZ-6uDt-f"
      },
      "execution_count": 15,
      "outputs": []
    },
    {
      "cell_type": "code",
      "source": [
        "device = torch.device(\"cuda\" if torch.cuda.is_available() else \"cpu\")\n",
        "\n",
        "model = MultiBranchFeatureExtractor().to(device)\n",
        "model.eval()\n",
        "\n",
        "for images, labels in train_loader:\n",
        "    images = images.to(device)\n",
        "\n",
        "    with torch.no_grad():\n",
        "        conv_feat, se_feat = model(images)\n",
        "\n",
        "    print(\"ConvNeXt Output:\", conv_feat.shape)  # [B, 256, 28, 28]\n",
        "    print(\"SENet+MBConv Output:\", se_feat.shape)  # [B, 256, 28, 28]\n",
        "    break\n"
      ],
      "metadata": {
        "colab": {
          "base_uri": "https://localhost:8080/",
          "height": 208,
          "referenced_widgets": [
            "b79003d61db844fe80fcb6d98362e9e6",
            "144b92b7fad949e290e0b087d506948f",
            "a36423887b8d40b099a4a17ada4a185b",
            "df7bda06201e4005bba4cd78ed5376d5",
            "3601074a29444146a8d4d4943a6b6ca9",
            "2e26dc47b2104665862b246989b09959",
            "5b4c23c539144308b145fe52a1f13122",
            "9da19b4eec7c4d0dbe93cd9a0af2eacf",
            "1568884bde16483884dacb6a14b256bc",
            "dc01c3e79a2640999b23449b3bbf37ee",
            "76a8fb0f07284ff8a234c3c220793b6f"
          ]
        },
        "id": "8y6UhVCgD1Bm",
        "outputId": "30fae395-c508-4253-cb49-17b1b8ff7699"
      },
      "execution_count": 16,
      "outputs": [
        {
          "output_type": "stream",
          "name": "stderr",
          "text": [
            "/usr/local/lib/python3.11/dist-packages/huggingface_hub/utils/_auth.py:94: UserWarning: \n",
            "The secret `HF_TOKEN` does not exist in your Colab secrets.\n",
            "To authenticate with the Hugging Face Hub, create a token in your settings tab (https://huggingface.co/settings/tokens), set it as secret in your Google Colab and restart your session.\n",
            "You will be able to reuse this secret in all of your notebooks.\n",
            "Please note that authentication is recommended but still optional to access public models or datasets.\n",
            "  warnings.warn(\n"
          ]
        },
        {
          "output_type": "display_data",
          "data": {
            "text/plain": [
              "model.safetensors:   0%|          | 0.00/114M [00:00<?, ?B/s]"
            ],
            "application/vnd.jupyter.widget-view+json": {
              "version_major": 2,
              "version_minor": 0,
              "model_id": "b79003d61db844fe80fcb6d98362e9e6"
            }
          },
          "metadata": {}
        },
        {
          "output_type": "stream",
          "name": "stdout",
          "text": [
            "ConvNeXt Output: torch.Size([16, 256, 28, 28])\n",
            "SENet+MBConv Output: torch.Size([16, 256, 28, 28])\n"
          ]
        }
      ]
    },
    {
      "cell_type": "code",
      "source": [
        "class CrossAttentionFusion(nn.Module):\n",
        "    def __init__(self, embed_dim=256, num_heads=4):\n",
        "        super(CrossAttentionFusion, self).__init__()\n",
        "        self.attn = nn.MultiheadAttention(embed_dim=embed_dim, num_heads=num_heads, batch_first=True)\n",
        "        self.norm = nn.LayerNorm(embed_dim)\n",
        "\n",
        "    def forward(self, feat_q, feat_kv):\n",
        "        # Input: B × 256 × 28 × 28\n",
        "        B, C, H, W = feat_q.shape\n",
        "\n",
        "        # Flatten to sequences: B × 784 × 256\n",
        "        q = feat_q.view(B, C, -1).permute(0, 2, 1)   # Q: (B, 784, 256)\n",
        "        kv = feat_kv.view(B, C, -1).permute(0, 2, 1) # K,V: (B, 784, 256)\n",
        "\n",
        "        # Cross-attention\n",
        "        attn_output, _ = self.attn(q, kv, kv)        # (B, 784, 256)\n",
        "        attn_output = self.norm(attn_output + q)     # Residual + Norm\n",
        "\n",
        "        # Reshape back to spatial map: (B, 256, 28, 28)\n",
        "        fused = attn_output.permute(0, 2, 1).view(B, C, H, W)\n",
        "\n",
        "        return fused  # Output: B × 256 × 28 × 28"
      ],
      "metadata": {
        "id": "zOAopRK4EG63"
      },
      "execution_count": 17,
      "outputs": []
    },
    {
      "cell_type": "code",
      "source": [
        "class FullFeatureFusionBlock(nn.Module):\n",
        "    def __init__(self):\n",
        "        super(FullFeatureFusionBlock, self).__init__()\n",
        "        self.backbone = MultiBranchFeatureExtractor()        # Gives conv_feat, se_feat\n",
        "        self.cross_attn = CrossAttentionFusion(embed_dim=256, num_heads=4)\n",
        "\n",
        "    def forward(self, x):\n",
        "        conv_feat, se_feat = self.backbone(x)               # B × 256 × 28 × 28\n",
        "\n",
        "        fused_feat = self.cross_attn(conv_feat, se_feat)    # B × 256 × 28 × 28\n",
        "\n",
        "        return fused_feat  # ready for concatenation with other branches if needed"
      ],
      "metadata": {
        "id": "7Nusj4diEa__"
      },
      "execution_count": 18,
      "outputs": []
    },
    {
      "cell_type": "code",
      "source": [
        "model = FullFeatureFusionBlock().to(device)\n",
        "model.eval()\n",
        "\n",
        "for images, _ in train_loader:\n",
        "    images = images.to(device)\n",
        "    with torch.no_grad():\n",
        "        fused_output = model(images)\n",
        "\n",
        "    print(\"Fused Output Shape:\", fused_output.shape)  # Expected: [B, 256, 28, 28]\n",
        "    break"
      ],
      "metadata": {
        "colab": {
          "base_uri": "https://localhost:8080/"
        },
        "id": "rcAwQ4CeEe93",
        "outputId": "ad92d2c2-392f-4599-ae22-63f013628573"
      },
      "execution_count": 19,
      "outputs": [
        {
          "output_type": "stream",
          "name": "stdout",
          "text": [
            "Fused Output Shape: torch.Size([16, 256, 28, 28])\n"
          ]
        }
      ]
    },
    {
      "cell_type": "code",
      "source": [
        "class GlobalContextBranch(nn.Module):\n",
        "    def __init__(self, in_channels=256, out_channels=64):\n",
        "        super(GlobalContextBranch, self).__init__()\n",
        "        self.global_pool = nn.AdaptiveAvgPool2d(1)\n",
        "        self.fc = nn.Sequential(\n",
        "            nn.Conv2d(in_channels, out_channels, 1),\n",
        "            nn.ReLU(),\n",
        "            nn.Upsample(size=(28, 28), mode='bilinear', align_corners=False)\n",
        "        )\n",
        "\n",
        "    def forward(self, x):\n",
        "        x = self.global_pool(x)   # [B, 256, 1, 1] after global pool, originally [B, 256, 7, 7]\n",
        "        x = self.fc(x)            # [B, 64, 28, 28]\n",
        "        return x"
      ],
      "metadata": {
        "id": "wWORSZAOElr2"
      },
      "execution_count": 20,
      "outputs": []
    },
    {
      "cell_type": "code",
      "source": [
        "class LocalDetailBranch(nn.Module):\n",
        "    def __init__(self, in_channels=256, out_channels=64):\n",
        "        super(LocalDetailBranch, self).__init__()\n",
        "        self.local_cnn = nn.Sequential(\n",
        "            nn.Conv2d(in_channels, out_channels, kernel_size=3, padding=2, dilation=2),\n",
        "            nn.BatchNorm2d(out_channels),\n",
        "            nn.ReLU(),\n",
        "            nn.Conv2d(out_channels, out_channels, kernel_size=3, padding=1),\n",
        "            nn.BatchNorm2d(out_channels),\n",
        "            nn.ReLU(),\n",
        "        )\n",
        "\n",
        "    def forward(self, x):\n",
        "        return self.local_cnn(x)  # [B, 64, 28, 28]"
      ],
      "metadata": {
        "id": "Q9ESnC7DFU2f"
      },
      "execution_count": 21,
      "outputs": []
    },
    {
      "cell_type": "code",
      "source": [
        "class MultiBranchFullFusion(nn.Module):\n",
        "    def __init__(self):\n",
        "        super(MultiBranchFullFusion, self).__init__()\n",
        "        self.feature_extractor = EfficientNetV2S_FeatureExtractor()\n",
        "\n",
        "        self.convnext_block = ConvNeXtBlock()\n",
        "        self.se_mbconv_block = SE_MBConvBlock()\n",
        "\n",
        "        self.pool = nn.AdaptiveAvgPool2d((28, 28))\n",
        "        self.cross_attn = CrossAttentionFusion(embed_dim=256)\n",
        "\n",
        "        self.global_context = GlobalContextBranch()\n",
        "        self.local_detail = LocalDetailBranch()\n",
        "\n",
        "        # Add pooling to ensure consistent spatial dimensions before concatenation\n",
        "        self.global_pool_out = nn.AdaptiveAvgPool2d((28, 28))\n",
        "        self.local_pool_out = nn.AdaptiveAvgPool2d((28, 28))\n",
        "\n",
        "\n",
        "    def forward(self, x):\n",
        "        feat = self.feature_extractor(x)                # [B, 256, 7, 7]\n",
        "\n",
        "        # ConvNeXt & SENet+MBConv\n",
        "        conv_feat = self.pool(self.convnext_block(feat))  # [B, 256, 28, 28]\n",
        "        se_feat   = self.pool(self.se_mbconv_block(feat)) # [B, 256, 28, 28]\n",
        "\n",
        "        # Cross-attention fused output\n",
        "        fused_attn = self.cross_attn(conv_feat, se_feat)  # [B, 256, 28, 28]\n",
        "\n",
        "        # Extra branches\n",
        "        global_feat = self.global_context(feat)           # Expected: [B, 64, 28, 28]\n",
        "        local_feat  = self.local_detail(feat)             # Expected: [B, 64, 28, 28]\n",
        "\n",
        "        # Ensure spatial dimensions are 28x28 before concatenation\n",
        "        global_feat_pooled = self.global_pool_out(global_feat)\n",
        "        local_feat_pooled = self.local_pool_out(local_feat)\n",
        "\n",
        "\n",
        "        # Concatenate all\n",
        "        final_feat = torch.cat([conv_feat, se_feat, fused_attn, global_feat_pooled, local_feat_pooled], dim=1)  # [B, 896, 28, 28]\n",
        "        return final_feat"
      ],
      "metadata": {
        "id": "oBV99odjFY5P"
      },
      "execution_count": 22,
      "outputs": []
    },
    {
      "cell_type": "code",
      "source": [
        "model = MultiBranchFullFusion().to(device)\n",
        "model.eval()\n",
        "\n",
        "for images, _ in train_loader:\n",
        "    images = images.to(device)\n",
        "    with torch.no_grad():\n",
        "        fusion_output = model(images)\n",
        "    print(\"Final Fused Feature Shape:\", fusion_output.shape)  # [B, 896, 28, 28]\n",
        "    break\n"
      ],
      "metadata": {
        "colab": {
          "base_uri": "https://localhost:8080/"
        },
        "id": "0aTPzXArFfAX",
        "outputId": "66799b39-7335-4722-865d-ff4e9b0ff9ff"
      },
      "execution_count": 23,
      "outputs": [
        {
          "output_type": "stream",
          "name": "stdout",
          "text": [
            "Final Fused Feature Shape: torch.Size([16, 896, 28, 28])\n"
          ]
        }
      ]
    },
    {
      "cell_type": "code",
      "source": [
        "class MobileViTBlock(nn.Module):\n",
        "    def __init__(self, in_channels, transformer_dim=128, patch_size=2, depth=2, heads=4):\n",
        "        super(MobileViTBlock, self).__init__()\n",
        "        self.patch_size = patch_size\n",
        "        ph, pw = patch_size, patch_size\n",
        "\n",
        "        self.local_rep = nn.Sequential(\n",
        "            nn.Conv2d(in_channels, in_channels, kernel_size=3, padding=1),\n",
        "            nn.BatchNorm2d(in_channels),\n",
        "            nn.ReLU()\n",
        "        )\n",
        "\n",
        "        self.unfold = nn.Unfold(kernel_size=patch_size, stride=patch_size)\n",
        "        self.fold = nn.Fold(output_size=(28, 28), kernel_size=patch_size, stride=patch_size)\n",
        "\n",
        "        self.conv_before_trans = nn.Conv2d(in_channels * ph * pw, transformer_dim, kernel_size=1)\n",
        "\n",
        "        encoder_layer = nn.TransformerEncoderLayer(\n",
        "            d_model=transformer_dim,\n",
        "            nhead=heads,\n",
        "            batch_first=True,\n",
        "            dim_feedforward=transformer_dim * 2,\n",
        "            dropout=0.1,\n",
        "            activation='gelu'\n",
        "        )\n",
        "        self.transformer = nn.TransformerEncoder(encoder_layer, num_layers=depth)\n",
        "\n",
        "        self.conv_after_trans = nn.Conv2d(transformer_dim, in_channels * ph * pw, kernel_size=1)\n",
        "\n",
        "\n",
        "        self.project = nn.Sequential(\n",
        "            nn.Conv2d(in_channels, in_channels, kernel_size=3, padding=1),\n",
        "            nn.BatchNorm2d(in_channels),\n",
        "            nn.ReLU()\n",
        "        )\n",
        "\n",
        "    def forward(self, x):\n",
        "        B, C, H, W = x.shape\n",
        "        ph, pw = self.patch_size, self.patch_size\n",
        "\n",
        "        identity = x # B × C × H × W\n",
        "\n",
        "        x = self.local_rep(x) # B × C × H × W\n",
        "\n",
        "        # Unfold, Conv, and flatten for Transformer\n",
        "        x = self.unfold(x) # B × (C*ph*pw) × (H*W / (ph*pw))\n",
        "        x = x.view(B, C, ph*pw, -1).permute(0, 3, 2, 1).contiguous().view(B, -1, C*ph*pw) # B × N × (C*ph*pw)\n",
        "        x = self.conv_before_trans(x.permute(0, 2, 1).view(B, C*ph*pw, H//ph, W//pw)).view(B, self.conv_before_trans.out_channels, -1).permute(0, 2, 1) # B × N × transformer_dim\n",
        "\n",
        "\n",
        "        # Transformer\n",
        "        x = self.transformer(x) # B × N × transformer_dim\n",
        "\n",
        "        # Project back and Fold\n",
        "        x = self.conv_after_trans(x.permute(0, 2, 1).view(B, self.conv_after_trans.in_channels, H//ph, W//pw)) # B × (C*ph*pw) × H/ph × W/pw\n",
        "        x = x.view(B, C*ph*pw, -1) # B × (C*ph*pw) × N\n",
        "        x = self.fold(x) # B × C × H × W\n",
        "\n",
        "        # Project and Residual Connection\n",
        "        x = self.project(x) # B × C × H × W\n",
        "        x = x + identity # Residual connection\n",
        "\n",
        "        return x # B × in_channels × H × W"
      ],
      "metadata": {
        "id": "7maz4TnEF5Rn"
      },
      "execution_count": 24,
      "outputs": []
    },
    {
      "cell_type": "code",
      "source": [
        "class FinalModelWithMobileViT(nn.Module):\n",
        "    def __init__(self):\n",
        "        super(FinalModelWithMobileViT, self).__init__()\n",
        "        self.fusion = MultiBranchFullFusion()\n",
        "        self.mobilevit = MobileViTBlock(in_channels=896, transformer_dim=128, patch_size=2, depth=2, heads=4)\n",
        "\n",
        "    def forward(self, x):\n",
        "        x = self.fusion(x)         # [B, 896, 28, 28]\n",
        "        x = self.mobilevit(x)      # [B, 896, 28, 28]\n",
        "        return x\n"
      ],
      "metadata": {
        "id": "Z9EhWEPlGXE3"
      },
      "execution_count": 25,
      "outputs": []
    },
    {
      "cell_type": "code",
      "source": [
        "model = FinalModelWithMobileViT().to(device)\n",
        "model.eval()\n",
        "\n",
        "for images, _ in train_loader:\n",
        "    images = images.to(device)\n",
        "    with torch.no_grad():\n",
        "        out = model(images)\n",
        "\n",
        "    print(\"MobileViT Output Shape:\", out.shape)  # [B, 896, 28, 28]\n",
        "    break\n"
      ],
      "metadata": {
        "colab": {
          "base_uri": "https://localhost:8080/"
        },
        "id": "UGnSyQWFGgWv",
        "outputId": "58f1811c-66ba-42a1-8625-b77c6ad3a391"
      },
      "execution_count": 26,
      "outputs": [
        {
          "output_type": "stream",
          "name": "stdout",
          "text": [
            "MobileViT Output Shape: torch.Size([16, 896, 28, 28])\n"
          ]
        }
      ]
    },
    {
      "cell_type": "code",
      "source": [
        "class FinalModelWithGAP(nn.Module):\n",
        "    def __init__(self):\n",
        "        super(FinalModelWithGAP, self).__init__()\n",
        "        self.fusion = MultiBranchFullFusion()\n",
        "        self.mobilevit = MobileViTBlock(in_channels=896, transformer_dim=128, patch_size=2, depth=2, heads=4)\n",
        "        self.gap = nn.AdaptiveAvgPool2d(1)  # Global Avg Pool → [B, 896, 1, 1]\n",
        "\n",
        "    def forward(self, x):\n",
        "        x = self.fusion(x)            # [B, 896, 28, 28]\n",
        "        x = self.mobilevit(x)         # [B, 896, 28, 28]\n",
        "        x = self.gap(x)               # [B, 896, 1, 1]\n",
        "        x = x.view(x.size(0), -1)     # Flatten → [B, 896]\n",
        "        return x\n"
      ],
      "metadata": {
        "id": "H7LFhDWwGsif"
      },
      "execution_count": 27,
      "outputs": []
    },
    {
      "cell_type": "code",
      "source": [
        "model = FinalModelWithGAP().to(device)\n",
        "model.eval()\n",
        "\n",
        "for images, _ in train_loader:\n",
        "    images = images.to(device)\n",
        "    with torch.no_grad():\n",
        "        features = model(images)\n",
        "\n",
        "    print(\"Final Feature Vector Shape:\", features.shape)  # [B, 896]\n",
        "    break\n"
      ],
      "metadata": {
        "colab": {
          "base_uri": "https://localhost:8080/"
        },
        "id": "Ed-xEmLjHJdP",
        "outputId": "3af967b0-8d1d-4508-d3bb-9398659dddaa"
      },
      "execution_count": 28,
      "outputs": [
        {
          "output_type": "stream",
          "name": "stdout",
          "text": [
            "Final Feature Vector Shape: torch.Size([16, 896])\n"
          ]
        }
      ]
    },
    {
      "cell_type": "code",
      "source": [
        "class EmotionClassifier(nn.Module):\n",
        "    def __init__(self, dropout_rate=0.5):\n",
        "        super(EmotionClassifier, self).__init__()\n",
        "        self.fusion = MultiBranchFullFusion()\n",
        "        self.mobilevit = MobileViTBlock(in_channels=896, transformer_dim=128, patch_size=2, depth=2, heads=4)\n",
        "        self.gap = nn.AdaptiveAvgPool2d(1)\n",
        "        self.classifier = nn.Sequential(\n",
        "            nn.Flatten(),                 # [B, 896, 1, 1] → [B, 896]\n",
        "            nn.Dropout(dropout_rate),\n",
        "            nn.Linear(896, 7)            # 7 emotion classes\n",
        "        )\n",
        "\n",
        "    def forward(self, x):\n",
        "        x = self.fusion(x)            # [B, 896, 28, 28]\n",
        "        x = self.mobilevit(x)         # [B, 896, 28, 28]\n",
        "        x = self.gap(x)               # [B, 896, 1, 1]\n",
        "        x = self.classifier(x)        # [B, 7]\n",
        "        return x\n"
      ],
      "metadata": {
        "id": "5mfIw9KFHOn2"
      },
      "execution_count": 29,
      "outputs": []
    },
    {
      "cell_type": "code",
      "source": [
        "model = EmotionClassifier().to(device)\n",
        "model.eval()\n",
        "\n",
        "for images, _ in train_loader:\n",
        "    images = images.to(device)\n",
        "    with torch.no_grad():\n",
        "        logits = model(images)\n",
        "\n",
        "    print(\"Model Output Shape:\", logits.shape)  # [B, 7]\n",
        "    break\n"
      ],
      "metadata": {
        "colab": {
          "base_uri": "https://localhost:8080/"
        },
        "id": "-Gtn-xXKIKnn",
        "outputId": "75868143-bb2e-412f-fc60-94e3a8f7cbf9"
      },
      "execution_count": 30,
      "outputs": [
        {
          "output_type": "stream",
          "name": "stdout",
          "text": [
            "Model Output Shape: torch.Size([16, 7])\n"
          ]
        }
      ]
    },
    {
      "cell_type": "code",
      "source": [
        "import torch.optim as optim\n",
        "\n",
        "criterion = nn.CrossEntropyLoss()\n",
        "\n",
        "optimizer = optim.Adam(model.parameters(), lr=1e-4)\n",
        "\n",
        "scheduler = optim.lr_scheduler.ReduceLROnPlateau(\n",
        "    optimizer, mode='min', factor=0.5, patience=3, verbose=True\n",
        ")\n"
      ],
      "metadata": {
        "colab": {
          "base_uri": "https://localhost:8080/"
        },
        "id": "NdqWwtyVIqLf",
        "outputId": "bec4624e-c5d3-4240-b97c-4b4a40ba1016"
      },
      "execution_count": 31,
      "outputs": [
        {
          "output_type": "stream",
          "name": "stderr",
          "text": [
            "/usr/local/lib/python3.11/dist-packages/torch/optim/lr_scheduler.py:62: UserWarning: The verbose parameter is deprecated. Please use get_last_lr() to access the learning rate.\n",
            "  warnings.warn(\n"
          ]
        }
      ]
    },
    {
      "cell_type": "code",
      "source": [
        "def train_model(model, train_loader, val_loader, criterion, optimizer, scheduler, device, num_epochs=25):\n",
        "    best_val_loss = float('inf')\n",
        "\n",
        "    for epoch in range(num_epochs):\n",
        "        # Training phase\n",
        "        model.train()\n",
        "        train_loss, train_correct, total = 0, 0, 0\n",
        "        for images, labels in train_loader:\n",
        "            images, labels = images.to(device), labels.to(device)\n",
        "\n",
        "            optimizer.zero_grad()\n",
        "            outputs = model(images)\n",
        "            loss = criterion(outputs, labels)\n",
        "            loss.backward()\n",
        "            optimizer.step()\n",
        "\n",
        "            train_loss += loss.item() * images.size(0)\n",
        "            _, preds = torch.max(outputs, 1)\n",
        "            train_correct += (preds == labels).sum().item()\n",
        "            total += labels.size(0)\n",
        "\n",
        "        avg_train_loss = train_loss / total\n",
        "        train_acc = 100 * train_correct / total\n",
        "\n",
        "        # Validation phase\n",
        "        model.eval()\n",
        "        val_loss, val_correct, val_total = 0, 0, 0\n",
        "        with torch.no_grad():\n",
        "            for images, labels in val_loader:\n",
        "                images, labels = images.to(device), labels.to(device)\n",
        "                outputs = model(images)\n",
        "                loss = criterion(outputs, labels)\n",
        "\n",
        "                val_loss += loss.item() * images.size(0)\n",
        "                _, preds = torch.max(outputs, 1)\n",
        "                val_correct += (preds == labels).sum().item()\n",
        "                val_total += labels.size(0)\n",
        "\n",
        "        avg_val_loss = val_loss / val_total\n",
        "        val_acc = 100 * val_correct / val_total\n",
        "\n",
        "        # Step scheduler\n",
        "        scheduler.step(avg_val_loss)\n",
        "\n",
        "        print(f\"Epoch [{epoch+1}/{num_epochs}] | \"\n",
        "              f\"Train Loss: {avg_train_loss:.4f} | Train Acc: {train_acc:.2f}% | \"\n",
        "              f\"Val Loss: {avg_val_loss:.4f} | Val Acc: {val_acc:.2f}%\")\n",
        "\n",
        "        # Optional: Save best model\n",
        "        if avg_val_loss < best_val_loss:\n",
        "            best_val_loss = avg_val_loss\n",
        "            torch.save(model.state_dict(), \"best_model.pth\")\n",
        "            print(\"✅ Saved Best Model\")\n",
        "\n",
        "    print(\"Training Complete!\")\n"
      ],
      "metadata": {
        "id": "GVEwxYGKIxov"
      },
      "execution_count": 32,
      "outputs": []
    },
    {
      "cell_type": "code",
      "source": [
        "num_epochs = 30  # or as needed\n",
        "train_model(model, train_loader, val_loader, criterion, optimizer, scheduler, device, num_epochs)\n"
      ],
      "metadata": {
        "id": "y2HOOW2cI3IX"
      },
      "execution_count": null,
      "outputs": []
    }
  ]
}